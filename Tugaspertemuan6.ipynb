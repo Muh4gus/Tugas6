{
  "nbformat": 4,
  "nbformat_minor": 0,
  "metadata": {
    "colab": {
      "provenance": [],
      "authorship_tag": "ABX9TyP35R14L1RRjor1iTgSl0EX",
      "include_colab_link": true
    },
    "kernelspec": {
      "name": "python3",
      "display_name": "Python 3"
    },
    "language_info": {
      "name": "python"
    }
  },
  "cells": [
    {
      "cell_type": "markdown",
      "metadata": {
        "id": "view-in-github",
        "colab_type": "text"
      },
      "source": [
        "<a href=\"https://colab.research.google.com/github/Muh4gus/Tugas6/blob/main/Tugaspertemuan6.ipynb\" target=\"_parent\"><img src=\"https://colab.research.google.com/assets/colab-badge.svg\" alt=\"Open In Colab\"/></a>"
      ]
    },
    {
      "cell_type": "code",
      "source": [
        "!pip install experta"
      ],
      "metadata": {
        "colab": {
          "base_uri": "https://localhost:8080/"
        },
        "id": "THAYsu3jvvNT",
        "outputId": "4b8b2292-ff01-4871-97d2-a5358f41e009"
      },
      "execution_count": null,
      "outputs": [
        {
          "output_type": "stream",
          "name": "stdout",
          "text": [
            "Collecting experta\n",
            "  Downloading experta-1.9.4-py3-none-any.whl.metadata (5.0 kB)\n",
            "Collecting frozendict==1.2 (from experta)\n",
            "  Downloading frozendict-1.2.tar.gz (2.6 kB)\n",
            "  Preparing metadata (setup.py) ... \u001b[?25l\u001b[?25hdone\n",
            "Collecting schema==0.6.7 (from experta)\n",
            "  Downloading schema-0.6.7-py2.py3-none-any.whl.metadata (14 kB)\n",
            "Downloading experta-1.9.4-py3-none-any.whl (35 kB)\n",
            "Downloading schema-0.6.7-py2.py3-none-any.whl (14 kB)\n",
            "Building wheels for collected packages: frozendict\n",
            "  Building wheel for frozendict (setup.py) ... \u001b[?25l\u001b[?25hdone\n",
            "  Created wheel for frozendict: filename=frozendict-1.2-py3-none-any.whl size=3149 sha256=bf9f2ec2ceabc2c4737d69955c6d7fd8e9fcb08fbafc30934cda772e1c61d55a\n",
            "  Stored in directory: /root/.cache/pip/wheels/49/ac/f8/cb8120244e710bdb479c86198b03c7b08c3c2d3d2bf448fd6e\n",
            "Successfully built frozendict\n",
            "Installing collected packages: schema, frozendict, experta\n",
            "  Attempting uninstall: frozendict\n",
            "    Found existing installation: frozendict 2.4.6\n",
            "    Uninstalling frozendict-2.4.6:\n",
            "      Successfully uninstalled frozendict-2.4.6\n",
            "\u001b[31mERROR: pip's dependency resolver does not currently take into account all the packages that are installed. This behaviour is the source of the following dependency conflicts.\n",
            "yfinance 0.2.55 requires frozendict>=2.3.4, but you have frozendict 1.2 which is incompatible.\u001b[0m\u001b[31m\n",
            "\u001b[0mSuccessfully installed experta-1.9.4 frozendict-1.2 schema-0.6.7\n"
          ]
        }
      ]
    },
    {
      "cell_type": "code",
      "source": [
        "!pip install experta frozendict<2.0"
      ],
      "metadata": {
        "colab": {
          "base_uri": "https://localhost:8080/"
        },
        "id": "X0FJMzI9v7YJ",
        "outputId": "9cc5109c-ee90-4fa1-c3b5-e18e72febaeb"
      },
      "execution_count": null,
      "outputs": [
        {
          "output_type": "stream",
          "name": "stdout",
          "text": [
            "/bin/bash: line 1: 2.0: No such file or directory\n"
          ]
        }
      ]
    },
    {
      "cell_type": "code",
      "execution_count": null,
      "metadata": {
        "id": "U0o-1gC-uwhq",
        "outputId": "95eade90-9fdc-44df-a78e-a3140dc9a3f7",
        "colab": {
          "base_uri": "https://localhost:8080/",
          "height": 373
        }
      },
      "outputs": [
        {
          "output_type": "error",
          "ename": "AttributeError",
          "evalue": "module 'collections' has no attribute 'Mapping'",
          "traceback": [
            "\u001b[0;31m---------------------------------------------------------------------------\u001b[0m",
            "\u001b[0;31mAttributeError\u001b[0m                            Traceback (most recent call last)",
            "\u001b[0;32m<ipython-input-14-099551b9cc28>\u001b[0m in \u001b[0;36m<cell line: 0>\u001b[0;34m()\u001b[0m\n\u001b[0;32m----> 1\u001b[0;31m \u001b[0;32mfrom\u001b[0m \u001b[0mexperta\u001b[0m \u001b[0;32mimport\u001b[0m \u001b[0;34m*\u001b[0m\u001b[0;34m\u001b[0m\u001b[0;34m\u001b[0m\u001b[0m\n\u001b[0m\u001b[1;32m      2\u001b[0m \u001b[0;34m\u001b[0m\u001b[0m\n\u001b[1;32m      3\u001b[0m \u001b[0;32mclass\u001b[0m \u001b[0mDiagnosis\u001b[0m\u001b[0;34m(\u001b[0m\u001b[0mKnowledgeEngine\u001b[0m\u001b[0;34m)\u001b[0m\u001b[0;34m:\u001b[0m\u001b[0;34m\u001b[0m\u001b[0;34m\u001b[0m\u001b[0m\n\u001b[1;32m      4\u001b[0m \u001b[0;34m\u001b[0m\u001b[0m\n\u001b[1;32m      5\u001b[0m     \u001b[0;34m@\u001b[0m\u001b[0mRule\u001b[0m\u001b[0;34m(\u001b[0m\u001b[0mFact\u001b[0m\u001b[0;34m(\u001b[0m\u001b[0mcough\u001b[0m\u001b[0;34m=\u001b[0m\u001b[0;32mTrue\u001b[0m\u001b[0;34m)\u001b[0m\u001b[0;34m,\u001b[0m \u001b[0mFact\u001b[0m\u001b[0;34m(\u001b[0m\u001b[0mfever\u001b[0m\u001b[0;34m=\u001b[0m\u001b[0;32mTrue\u001b[0m\u001b[0;34m)\u001b[0m\u001b[0;34m,\u001b[0m \u001b[0mFact\u001b[0m\u001b[0;34m(\u001b[0m\u001b[0mfatigue\u001b[0m\u001b[0;34m=\u001b[0m\u001b[0;32mTrue\u001b[0m\u001b[0;34m)\u001b[0m\u001b[0;34m)\u001b[0m\u001b[0;34m\u001b[0m\u001b[0;34m\u001b[0m\u001b[0m\n",
            "\u001b[0;32m/usr/local/lib/python3.11/dist-packages/experta/__init__.py\u001b[0m in \u001b[0;36m<module>\u001b[0;34m\u001b[0m\n\u001b[1;32m      3\u001b[0m \u001b[0;32mtry\u001b[0m\u001b[0;34m:\u001b[0m\u001b[0;34m\u001b[0m\u001b[0;34m\u001b[0m\u001b[0m\n\u001b[1;32m      4\u001b[0m     \u001b[0;32mfrom\u001b[0m \u001b[0;34m.\u001b[0m\u001b[0mconditionalelement\u001b[0m \u001b[0;32mimport\u001b[0m \u001b[0mAND\u001b[0m\u001b[0;34m,\u001b[0m \u001b[0mOR\u001b[0m\u001b[0;34m,\u001b[0m \u001b[0mNOT\u001b[0m\u001b[0;34m,\u001b[0m \u001b[0mTEST\u001b[0m\u001b[0;34m,\u001b[0m \u001b[0mEXISTS\u001b[0m\u001b[0;34m,\u001b[0m \u001b[0mFORALL\u001b[0m\u001b[0;34m\u001b[0m\u001b[0;34m\u001b[0m\u001b[0m\n\u001b[0;32m----> 5\u001b[0;31m     \u001b[0;32mfrom\u001b[0m \u001b[0;34m.\u001b[0m\u001b[0mengine\u001b[0m \u001b[0;32mimport\u001b[0m \u001b[0mKnowledgeEngine\u001b[0m\u001b[0;34m\u001b[0m\u001b[0;34m\u001b[0m\u001b[0m\n\u001b[0m\u001b[1;32m      6\u001b[0m     \u001b[0;32mfrom\u001b[0m \u001b[0;34m.\u001b[0m\u001b[0mfact\u001b[0m \u001b[0;32mimport\u001b[0m \u001b[0mFact\u001b[0m\u001b[0;34m,\u001b[0m \u001b[0mInitialFact\u001b[0m\u001b[0;34m,\u001b[0m \u001b[0mField\u001b[0m\u001b[0;34m\u001b[0m\u001b[0;34m\u001b[0m\u001b[0m\n\u001b[1;32m      7\u001b[0m     \u001b[0;32mfrom\u001b[0m \u001b[0;34m.\u001b[0m\u001b[0mfieldconstraint\u001b[0m \u001b[0;32mimport\u001b[0m \u001b[0mL\u001b[0m\u001b[0;34m,\u001b[0m \u001b[0mW\u001b[0m\u001b[0;34m,\u001b[0m \u001b[0mP\u001b[0m\u001b[0;34m\u001b[0m\u001b[0;34m\u001b[0m\u001b[0m\n",
            "\u001b[0;32m/usr/local/lib/python3.11/dist-packages/experta/engine.py\u001b[0m in \u001b[0;36m<module>\u001b[0;34m\u001b[0m\n\u001b[1;32m     11\u001b[0m \u001b[0;34m\u001b[0m\u001b[0m\n\u001b[1;32m     12\u001b[0m \u001b[0;32mfrom\u001b[0m \u001b[0mexperta\u001b[0m\u001b[0;34m.\u001b[0m\u001b[0magenda\u001b[0m \u001b[0;32mimport\u001b[0m \u001b[0mAgenda\u001b[0m\u001b[0;34m\u001b[0m\u001b[0;34m\u001b[0m\u001b[0m\n\u001b[0;32m---> 13\u001b[0;31m \u001b[0;32mfrom\u001b[0m \u001b[0mexperta\u001b[0m\u001b[0;34m.\u001b[0m\u001b[0mfact\u001b[0m \u001b[0;32mimport\u001b[0m \u001b[0mInitialFact\u001b[0m\u001b[0;34m\u001b[0m\u001b[0;34m\u001b[0m\u001b[0m\n\u001b[0m\u001b[1;32m     14\u001b[0m \u001b[0;32mfrom\u001b[0m \u001b[0mexperta\u001b[0m\u001b[0;34m.\u001b[0m\u001b[0mfactlist\u001b[0m \u001b[0;32mimport\u001b[0m \u001b[0mFactList\u001b[0m\u001b[0;34m\u001b[0m\u001b[0;34m\u001b[0m\u001b[0m\n\u001b[1;32m     15\u001b[0m \u001b[0;32mfrom\u001b[0m \u001b[0mexperta\u001b[0m\u001b[0;34m.\u001b[0m\u001b[0mrule\u001b[0m \u001b[0;32mimport\u001b[0m \u001b[0mRule\u001b[0m\u001b[0;34m\u001b[0m\u001b[0;34m\u001b[0m\u001b[0m\n",
            "\u001b[0;32m/usr/local/lib/python3.11/dist-packages/experta/fact.py\u001b[0m in \u001b[0;36m<module>\u001b[0;34m\u001b[0m\n\u001b[1;32m      7\u001b[0m \u001b[0;34m\u001b[0m\u001b[0m\n\u001b[1;32m      8\u001b[0m \u001b[0;32mfrom\u001b[0m \u001b[0mexperta\u001b[0m\u001b[0;34m.\u001b[0m\u001b[0mpattern\u001b[0m \u001b[0;32mimport\u001b[0m \u001b[0mBindable\u001b[0m\u001b[0;34m\u001b[0m\u001b[0;34m\u001b[0m\u001b[0m\n\u001b[0;32m----> 9\u001b[0;31m \u001b[0;32mfrom\u001b[0m \u001b[0mexperta\u001b[0m\u001b[0;34m.\u001b[0m\u001b[0mutils\u001b[0m \u001b[0;32mimport\u001b[0m \u001b[0mfreeze\u001b[0m\u001b[0;34m,\u001b[0m \u001b[0munfreeze\u001b[0m\u001b[0;34m\u001b[0m\u001b[0;34m\u001b[0m\u001b[0m\n\u001b[0m\u001b[1;32m     10\u001b[0m \u001b[0;32mfrom\u001b[0m \u001b[0mexperta\u001b[0m\u001b[0;34m.\u001b[0m\u001b[0mconditionalelement\u001b[0m \u001b[0;32mimport\u001b[0m \u001b[0mOperableCE\u001b[0m\u001b[0;34m\u001b[0m\u001b[0;34m\u001b[0m\u001b[0m\n\u001b[1;32m     11\u001b[0m \u001b[0;32mfrom\u001b[0m \u001b[0mexperta\u001b[0m\u001b[0;34m.\u001b[0m\u001b[0mconditionalelement\u001b[0m \u001b[0;32mimport\u001b[0m \u001b[0mConditionalElement\u001b[0m\u001b[0;34m\u001b[0m\u001b[0;34m\u001b[0m\u001b[0m\n",
            "\u001b[0;32m/usr/local/lib/python3.11/dist-packages/experta/utils.py\u001b[0m in \u001b[0;36m<module>\u001b[0;34m\u001b[0m\n\u001b[1;32m      2\u001b[0m \u001b[0;32mimport\u001b[0m \u001b[0mcollections\u001b[0m\u001b[0;34m.\u001b[0m\u001b[0mabc\u001b[0m\u001b[0;34m\u001b[0m\u001b[0;34m\u001b[0m\u001b[0m\n\u001b[1;32m      3\u001b[0m \u001b[0;34m\u001b[0m\u001b[0m\n\u001b[0;32m----> 4\u001b[0;31m \u001b[0;32mfrom\u001b[0m \u001b[0mfrozendict\u001b[0m \u001b[0;32mimport\u001b[0m \u001b[0mfrozendict\u001b[0m\u001b[0;34m\u001b[0m\u001b[0;34m\u001b[0m\u001b[0m\n\u001b[0m\u001b[1;32m      5\u001b[0m \u001b[0;34m\u001b[0m\u001b[0m\n\u001b[1;32m      6\u001b[0m \u001b[0;32mfrom\u001b[0m \u001b[0;34m.\u001b[0m\u001b[0mfieldconstraint\u001b[0m \u001b[0;32mimport\u001b[0m \u001b[0mP\u001b[0m\u001b[0;34m\u001b[0m\u001b[0;34m\u001b[0m\u001b[0m\n",
            "\u001b[0;32m/usr/local/lib/python3.11/dist-packages/frozendict/__init__.py\u001b[0m in \u001b[0;36m<module>\u001b[0;34m\u001b[0m\n\u001b[1;32m     14\u001b[0m \u001b[0;34m\u001b[0m\u001b[0m\n\u001b[1;32m     15\u001b[0m \u001b[0;34m\u001b[0m\u001b[0m\n\u001b[0;32m---> 16\u001b[0;31m \u001b[0;32mclass\u001b[0m \u001b[0mfrozendict\u001b[0m\u001b[0;34m(\u001b[0m\u001b[0mcollections\u001b[0m\u001b[0;34m.\u001b[0m\u001b[0mMapping\u001b[0m\u001b[0;34m)\u001b[0m\u001b[0;34m:\u001b[0m\u001b[0;34m\u001b[0m\u001b[0;34m\u001b[0m\u001b[0m\n\u001b[0m\u001b[1;32m     17\u001b[0m     \"\"\"\n\u001b[1;32m     18\u001b[0m     \u001b[0mAn\u001b[0m \u001b[0mimmutable\u001b[0m \u001b[0mwrapper\u001b[0m \u001b[0maround\u001b[0m \u001b[0mdictionaries\u001b[0m \u001b[0mthat\u001b[0m \u001b[0mimplements\u001b[0m \u001b[0mthe\u001b[0m \u001b[0mcomplete\u001b[0m \u001b[0;34m:\u001b[0m\u001b[0mpy\u001b[0m\u001b[0;34m:\u001b[0m\u001b[0;32mclass\u001b[0m\u001b[0;34m:\u001b[0m\u001b[0;31m`\u001b[0m\u001b[0mcollections\u001b[0m\u001b[0;34m.\u001b[0m\u001b[0mMapping\u001b[0m\u001b[0;31m`\u001b[0m\u001b[0;34m\u001b[0m\u001b[0;34m\u001b[0m\u001b[0m\n",
            "\u001b[0;31mAttributeError\u001b[0m: module 'collections' has no attribute 'Mapping'"
          ]
        }
      ],
      "source": [
        "from experta import *\n",
        "\n",
        "class Diagnosis(KnowledgeEngine):\n",
        "\n",
        "    @Rule(Fact(cough=True), Fact(fever=True), Fact(fatigue=True))\n",
        "    def flu(self):\n",
        "        print(\"Diagnosis: Kamu terkena flu\")\n",
        "\n",
        "    @Rule(Fact(cough=True), Fact(fever=True), Fact(breathing_difficulty=True))\n",
        "    def pneumonia(self):\n",
        "        print(\"Diagnosis: Kamu terkena pneumonia\")\n",
        "\n",
        "    @Rule(Fact(sneezing=True), Fact(runny_nose=True), Fact(cough=False))\n",
        "    def cold(self):\n",
        "        print(\"Diagnosis: Kamu terkena cold\")\n",
        "\n",
        "    @Rule(Fact(sore_throat=True), Fact(fever=True))\n",
        "    def throat_infection(self):\n",
        "        print(\"Diagnosis: Kamu terkena throat infection\")\n",
        "\n",
        "    # Penyakit tambahan:\n",
        "    @Rule(Fact(fever=True), Fact(cough=True), Fact(fatigue=True), Fact(loss_of_smell=True))\n",
        "    def covid(self):\n",
        "        print(\"Diagnosis: Kamu kemungkinan terkena COVID-19\")\n",
        "\n",
        "    @Rule(Fact(sneezing=True), Fact(itchy_eyes=True), Fact(stuffy_nose=True))\n",
        "    def allergy(self):\n",
        "        print(\"Diagnosis: Kamu mengalami alergi\")\n",
        "\n",
        "    @Rule(Fact(persistent_cough=True), Fact(weight_loss=True), Fact(long_fever=True))\n",
        "    def tuberculosis(self):\n",
        "        print(\"Diagnosis: Kamu terkena TBC (Tuberkulosis)\")\n",
        "\n",
        "    @Rule(Fact(high_fever=True), Fact(joint_pain=True), Fact(skin_rash=True))\n",
        "    def dengue(self):\n",
        "        print(\"Diagnosis: Kamu terkena DBD (Demam Berdarah Dengue)\")\n",
        "\n",
        "    @Rule(Fact(cough=False), Fact(fever=False), Fact(fatigue=False),\n",
        "          Fact(breathing_difficulty=False), Fact(sneezing=False), Fact(runny_nose=False),\n",
        "          Fact(sore_throat=False), Fact(loss_of_smell=False), Fact(itchy_eyes=False),\n",
        "          Fact(stuffy_nose=False), Fact(persistent_cough=False), Fact(weight_loss=False),\n",
        "          Fact(long_fever=False), Fact(high_fever=False), Fact(joint_pain=False),\n",
        "          Fact(skin_rash=False))\n",
        "    def healthy(self):\n",
        "        print(\"Diagnosis: Kamu sehat\")\n",
        "\n",
        "def get_input():\n",
        "    def ask(question):\n",
        "        return input(question + \" (yes/no): \").strip().lower() == \"yes\"\n",
        "\n",
        "    return {\n",
        "        \"cough\": ask(\"Apakah kamu batuk?\"),\n",
        "        \"fever\": ask(\"Apakah kamu demam?\"),\n",
        "        \"fatigue\": ask(\"Apakah kamu merasa lelah?\"),\n",
        "        \"breathing_difficulty\": ask(\"Apakah kamu mengalami kesulitan bernapas?\"),\n",
        "        \"sneezing\": ask(\"Apakah kamu bersin-bersin?\"),\n",
        "        \"runny_nose\": ask(\"Apakah kamu mengalami hidung berair?\"),\n",
        "        \"sore_throat\": ask(\"Apakah kamu sakit tenggorokan?\"),\n",
        "        \"loss_of_smell\": ask(\"Apakah kamu kehilangan indra penciuman?\"),\n",
        "        \"itchy_eyes\": ask(\"Apakah kamu merasa mata gatal?\"),\n",
        "        \"stuffy_nose\": ask(\"Apakah kamu mengalami hidung tersumbat?\"),\n",
        "        \"persistent_cough\": ask(\"Apakah kamu batuk berkepanjangan?\"),\n",
        "        \"weight_loss\": ask(\"Apakah kamu mengalami penurunan berat badan?\"),\n",
        "        \"long_fever\": ask(\"Apakah kamu mengalami demam berkepanjangan?\"),\n",
        "        \"high_fever\": ask(\"Apakah kamu mengalami demam tinggi?\"),\n",
        "        \"joint_pain\": ask(\"Apakah kamu merasakan nyeri sendi?\"),\n",
        "        \"skin_rash\": ask(\"Apakah kamu memiliki bintik merah di kulit?\")\n",
        "    }\n",
        "\n",
        "if __name__ == \"__main__\":\n",
        "    print(\"Selamat datang di Sistem Pakar Diagnosis Penyakit.\\nSilakan jawab pertanyaan berikut:\")\n",
        "    symptoms = get_input()\n",
        "    engine = Diagnosis()\n",
        "    engine.reset()\n",
        "\n",
        "    for symptom, value in symptoms.items():\n",
        "        engine.declare(Fact(**{symptom: value}))\n",
        "\n",
        "    engine.run()\n",
        "\n",
        "\"\"\"SISTEM PAKAR MEDIS INTERAKTIF DENGAN DETEKSI MULTI-PENYAKIT\"\"\"\n",
        "\n",
        "from experta import *\n",
        "\n",
        "class SistemPakarMedis(KnowledgeEngine):\n",
        "    @Rule(Fact(demam=True), Fact(batuk=True))\n",
        "    def flu(self):\n",
        "        print(\"Diagnosis: Kamu terkena flu\")\n",
        "\n",
        "    @Rule(Fact(sakit_tenggorokan=True), Fact(demam=True))\n",
        "    def throat_infection(self):\n",
        "        print(\"Diagnosis: Kamu terkena infeksi tenggorokan\")\n",
        "\n",
        "    @Rule(Fact(nyeri_otot=True), Fact(nyeri_perut=True))\n",
        "    def hernia(self):\n",
        "        print(\"Diagnosis: Kamu terkena hernia\")\n",
        "\n",
        "    # Penyakit tambahan\n",
        "    @Rule(Fact(demam=True), Fact(batuk=True), Fact(kelelahan=True), Fact(hilang_penciuman=True))\n",
        "    def covid(self):\n",
        "        print(\"Diagnosis: Kemungkinan besar kamu terkena COVID-19\")\n",
        "\n",
        "    @Rule(Fact(bersin=True), Fact(hidung_tersumbat=True), Fact(mata_gatal=True))\n",
        "    def alergi(self):\n",
        "        print(\"Diagnosis: Kamu mengalami alergi\")\n",
        "\n",
        "    @Rule(Fact(batuk_berkepanjangan=True), Fact(penurunan_bb=True), Fact(demam_berminggu=True))\n",
        "    def tbc(self):\n",
        "        print(\"Diagnosis: Kamu terkena TBC (Tuberkulosis)\")\n",
        "\n",
        "    @Rule(Fact(demam_tinggi=True), Fact(nyeri_sendi=True), Fact(bintik_merah=True))\n",
        "    def dbd(self):\n",
        "        print(\"Diagnosis: Kamu terkena DBD (Demam Berdarah Dengue)\")\n",
        "\n",
        "    @Rule(Fact(\n",
        "        demam=False, batuk=False, sakit_tenggorokan=False,\n",
        "        nyeri_otot=False, nyeri_perut=False, kelelahan=False,\n",
        "        hilang_penciuman=False, bersin=False, hidung_tersumbat=False,\n",
        "        mata_gatal=False, batuk_berkepanjangan=False, penurunan_bb=False,\n",
        "        demam_berminggu=False, demam_tinggi=False, nyeri_sendi=False, bintik_merah=False\n",
        "    ))\n",
        "    def sehat(self):\n",
        "        print(\"Diagnosis: Kamu sehat\")\n",
        "\n",
        "def tanya_gejala():\n",
        "    def tanya(pertanyaan):\n",
        "        return input(f\"{pertanyaan} (yes/no): \").strip().lower() == \"yes\"\n",
        "\n",
        "    return {\n",
        "        \"demam\": tanya(\"Apakah kamu demam?\"),\n",
        "        \"batuk\": tanya(\"Apakah kamu batuk?\"),\n",
        "        \"sakit_tenggorokan\": tanya(\"Apakah kamu sakit tenggorokan?\"),\n",
        "        \"nyeri_otot\": tanya(\"Apakah kamu nyeri otot?\"),\n",
        "        \"nyeri_perut\": tanya(\"Apakah kamu nyeri perut?\"),\n",
        "        \"kelelahan\": tanya(\"Apakah kamu merasa kelelahan?\"),\n",
        "        \"hilang_penciuman\": tanya(\"Apakah kamu kehilangan penciuman?\"),\n",
        "        \"bersin\": tanya(\"Apakah kamu sering bersin?\"),\n",
        "        \"hidung_tersumbat\": tanya(\"Apakah kamu mengalami hidung tersumbat?\"),\n",
        "        \"mata_gatal\": tanya(\"Apakah kamu merasa mata gatal?\"),\n",
        "        \"batuk_berkepanjangan\": tanya(\"Apakah kamu batuk berkepanjangan?\"),\n",
        "        \"penurunan_bb\": tanya(\"Apakah kamu kehilangan berat badan secara drastis?\"),\n",
        "        \"demam_berminggu\": tanya(\"Apakah kamu demam lebih dari seminggu?\"),\n",
        "        \"demam_tinggi\": tanya(\"Apakah kamu mengalami demam tinggi?\"),\n",
        "        \"nyeri_sendi\": tanya(\"Apakah kamu mengalami nyeri sendi?\"),\n",
        "        \"bintik_merah\": tanya(\"Apakah kamu memiliki bintik merah pada kulit?\")\n",
        "    }\n",
        "\n",
        "if __name__ == \"__main__\":\n",
        "    print(\"=== Sistem Pakar Medis ===\")\n",
        "    print(\"Silakan jawab pertanyaan berikut:\")\n",
        "    gejala = tanya_gejala()\n",
        "\n",
        "    engine = SistemPakarMedis()\n",
        "    engine.reset()\n",
        "\n",
        "    for nama, nilai in gejala.items():\n",
        "        engine.declare(Fact(**{nama: nilai}))\n",
        "\n",
        "    engine.run()"
      ]
    }
  ]
}